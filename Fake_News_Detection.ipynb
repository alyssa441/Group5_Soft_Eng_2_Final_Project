{
 "cells": [
  {
   "cell_type": "code",
   "execution_count": 1,
   "source": [
    "import os\r\n",
    "os.chdir(\"C:\\FinalProject\")"
   ],
   "outputs": [],
   "metadata": {}
  },
  {
   "cell_type": "code",
   "execution_count": 2,
   "source": [
    "import pandas as pd"
   ],
   "outputs": [],
   "metadata": {}
  },
  {
   "cell_type": "code",
   "execution_count": 3,
   "source": [
    "dataframe = pd.read_csv('news.csv')\r\n",
    "dataframe.head()"
   ],
   "outputs": [
    {
     "output_type": "execute_result",
     "data": {
      "text/plain": [
       "   Unnamed: 0                                              title  \\\n",
       "0           1  Pampanga IPs benefit in upland vegetable farmi...   \n",
       "1           2  Bong Go supports govt efforts to address insur...   \n",
       "2           3  Baguio eyes district, satellite jab sites\\nhtt...   \n",
       "3           4  Extreme weather, disasters to continue\\nhttps:...   \n",
       "4           5  DoTr, DPWH inaugurate Davao City bike lane net...   \n",
       "\n",
       "                                                text label  \n",
       "0  Pampanga IPs benefit in upland vegetable farmi...  REAL  \n",
       "1  Bong Go supports govt efforts to address insur...  REAL  \n",
       "2  Baguio eyes district, satellite jab sites\\nhtt...  REAL  \n",
       "3  Extreme weather, disasters to continue\\nhttps:...  REAL  \n",
       "4  DoTr, DPWH inaugurate Davao City bike lane net...  REAL  "
      ],
      "text/html": [
       "<div>\n",
       "<style scoped>\n",
       "    .dataframe tbody tr th:only-of-type {\n",
       "        vertical-align: middle;\n",
       "    }\n",
       "\n",
       "    .dataframe tbody tr th {\n",
       "        vertical-align: top;\n",
       "    }\n",
       "\n",
       "    .dataframe thead th {\n",
       "        text-align: right;\n",
       "    }\n",
       "</style>\n",
       "<table border=\"1\" class=\"dataframe\">\n",
       "  <thead>\n",
       "    <tr style=\"text-align: right;\">\n",
       "      <th></th>\n",
       "      <th>Unnamed: 0</th>\n",
       "      <th>title</th>\n",
       "      <th>text</th>\n",
       "      <th>label</th>\n",
       "    </tr>\n",
       "  </thead>\n",
       "  <tbody>\n",
       "    <tr>\n",
       "      <th>0</th>\n",
       "      <td>1</td>\n",
       "      <td>Pampanga IPs benefit in upland vegetable farmi...</td>\n",
       "      <td>Pampanga IPs benefit in upland vegetable farmi...</td>\n",
       "      <td>REAL</td>\n",
       "    </tr>\n",
       "    <tr>\n",
       "      <th>1</th>\n",
       "      <td>2</td>\n",
       "      <td>Bong Go supports govt efforts to address insur...</td>\n",
       "      <td>Bong Go supports govt efforts to address insur...</td>\n",
       "      <td>REAL</td>\n",
       "    </tr>\n",
       "    <tr>\n",
       "      <th>2</th>\n",
       "      <td>3</td>\n",
       "      <td>Baguio eyes district, satellite jab sites\\nhtt...</td>\n",
       "      <td>Baguio eyes district, satellite jab sites\\nhtt...</td>\n",
       "      <td>REAL</td>\n",
       "    </tr>\n",
       "    <tr>\n",
       "      <th>3</th>\n",
       "      <td>4</td>\n",
       "      <td>Extreme weather, disasters to continue\\nhttps:...</td>\n",
       "      <td>Extreme weather, disasters to continue\\nhttps:...</td>\n",
       "      <td>REAL</td>\n",
       "    </tr>\n",
       "    <tr>\n",
       "      <th>4</th>\n",
       "      <td>5</td>\n",
       "      <td>DoTr, DPWH inaugurate Davao City bike lane net...</td>\n",
       "      <td>DoTr, DPWH inaugurate Davao City bike lane net...</td>\n",
       "      <td>REAL</td>\n",
       "    </tr>\n",
       "  </tbody>\n",
       "</table>\n",
       "</div>"
      ]
     },
     "metadata": {},
     "execution_count": 3
    }
   ],
   "metadata": {}
  },
  {
   "cell_type": "code",
   "execution_count": 4,
   "source": [
    "x = dataframe['text']\r\n",
    "y = dataframe['label']"
   ],
   "outputs": [],
   "metadata": {}
  },
  {
   "cell_type": "code",
   "execution_count": 5,
   "source": [
    "x"
   ],
   "outputs": [
    {
     "output_type": "execute_result",
     "data": {
      "text/plain": [
       "0      Pampanga IPs benefit in upland vegetable farmi...\n",
       "1      Bong Go supports govt efforts to address insur...\n",
       "2      Baguio eyes district, satellite jab sites\\nhtt...\n",
       "3      Extreme weather, disasters to continue\\nhttps:...\n",
       "4      DoTr, DPWH inaugurate Davao City bike lane net...\n",
       "                             ...                        \n",
       "458                                                  NaN\n",
       "459                                                  NaN\n",
       "460                                                  NaN\n",
       "461                                                  NaN\n",
       "462                                                  NaN\n",
       "Name: text, Length: 463, dtype: object"
      ]
     },
     "metadata": {},
     "execution_count": 5
    }
   ],
   "metadata": {}
  },
  {
   "cell_type": "code",
   "execution_count": 6,
   "source": [
    "y"
   ],
   "outputs": [
    {
     "output_type": "execute_result",
     "data": {
      "text/plain": [
       "0      REAL\n",
       "1      REAL\n",
       "2      REAL\n",
       "3      REAL\n",
       "4      REAL\n",
       "       ... \n",
       "458     NaN\n",
       "459     NaN\n",
       "460     NaN\n",
       "461     NaN\n",
       "462     NaN\n",
       "Name: label, Length: 463, dtype: object"
      ]
     },
     "metadata": {},
     "execution_count": 6
    }
   ],
   "metadata": {}
  },
  {
   "cell_type": "code",
   "execution_count": 7,
   "source": [
    "from sklearn.model_selection import train_test_split\r\n",
    "from sklearn.feature_extraction.text import TfidfVectorizer\r\n",
    "from sklearn.linear_model import PassiveAggressiveClassifier\r\n",
    "from sklearn.metrics import accuracy_score, confusion_matrix"
   ],
   "outputs": [],
   "metadata": {}
  },
  {
   "cell_type": "code",
   "execution_count": 8,
   "source": [
    "x_train,x_test,y_train,y_test = train_test_split(x.values.astype('U'),y.values.astype('U'),test_size=0.2,random_state=0)\r\n",
    "y_train"
   ],
   "outputs": [
    {
     "output_type": "execute_result",
     "data": {
      "text/plain": [
       "array(['REAL', 'REAL', 'REAL', 'REAL', 'FAKE', 'REAL', 'REAL', 'REAL',\n",
       "       'REAL', 'REAL', 'REAL', 'REAL', 'REAL', 'REAL', 'FAKE', 'REAL',\n",
       "       'FAKE', 'FAKE', 'REAL', 'REAL', 'REAL', 'REAL', 'REAL', 'REAL',\n",
       "       'REAL', 'REAL', 'FAKE', 'REAL', 'FAKE', 'REAL', 'REAL', 'REAL',\n",
       "       'FAKE', 'REAL', 'REAL', 'REAL', 'REAL', 'FAKE', 'REAL', 'nan',\n",
       "       'REAL', 'REAL', 'REAL', 'REAL', 'nan', 'nan', 'REAL', 'REAL',\n",
       "       'REAL', 'FAKE', 'REAL', 'REAL', 'REAL', 'REAL', 'REAL', 'REAL',\n",
       "       'FAKE', 'REAL', 'FAKE', 'FAKE', 'REAL', 'REAL', 'FAKE', 'REAL',\n",
       "       'REAL', 'REAL', 'REAL', 'REAL', 'REAL', 'REAL', 'REAL', 'REAL',\n",
       "       'REAL', 'REAL', 'REAL', 'REAL', 'FAKE', 'nan', 'REAL', 'REAL',\n",
       "       'REAL', 'FAKE', 'REAL', 'FAKE', 'REAL', 'REAL', 'REAL', 'REAL',\n",
       "       'FAKE', 'REAL', 'REAL', 'REAL', 'REAL', 'REAL', 'REAL', 'REAL',\n",
       "       'REAL', 'REAL', 'FAKE', 'REAL', 'FAKE', 'REAL', 'REAL', 'FAKE',\n",
       "       'REAL', 'REAL', 'nan', 'REAL', 'REAL', 'REAL', 'FAKE', 'FAKE',\n",
       "       'REAL', 'REAL', 'REAL', 'REAL', 'nan', 'REAL', 'FAKE', 'REAL',\n",
       "       'REAL', 'REAL', 'REAL', 'REAL', 'REAL', 'REAL', 'REAL', 'REAL',\n",
       "       'nan', 'FAKE', 'REAL', 'REAL', 'REAL', 'REAL', 'REAL', 'FAKE',\n",
       "       'nan', 'REAL', 'REAL', 'REAL', 'nan', 'REAL', 'nan', 'REAL',\n",
       "       'REAL', 'nan', 'REAL', 'REAL', 'FAKE', 'FAKE', 'REAL', 'nan',\n",
       "       'REAL', 'REAL', 'REAL', 'REAL', 'REAL', 'REAL', 'nan', 'REAL',\n",
       "       'FAKE', 'REAL', 'REAL', 'REAL', 'REAL', 'REAL', 'REAL', 'REAL',\n",
       "       'FAKE', 'REAL', 'REAL', 'REAL', 'REAL', 'REAL', 'FAKE', 'REAL',\n",
       "       'REAL', 'REAL', 'REAL', 'REAL', 'REAL', 'FAKE', 'FAKE', 'REAL',\n",
       "       'REAL', 'nan', 'REAL', 'REAL', 'REAL', 'REAL', 'FAKE', 'nan',\n",
       "       'REAL', 'REAL', 'REAL', 'nan', 'nan', 'REAL', 'REAL', 'REAL',\n",
       "       'REAL', 'REAL', 'REAL', 'REAL', 'REAL', 'REAL', 'REAL', 'FAKE',\n",
       "       'FAKE', 'REAL', 'nan', 'REAL', 'REAL', 'REAL', 'REAL', 'REAL',\n",
       "       'REAL', 'REAL', 'REAL', 'REAL', 'REAL', 'REAL', 'REAL', 'REAL',\n",
       "       'nan', 'REAL', 'REAL', 'FAKE', 'REAL', 'FAKE', 'REAL', 'REAL',\n",
       "       'REAL', 'REAL', 'REAL', 'REAL', 'REAL', 'REAL', 'nan', 'REAL',\n",
       "       'REAL', 'REAL', 'REAL', 'REAL', 'FAKE', 'FAKE', 'FAKE', 'REAL',\n",
       "       'REAL', 'FAKE', 'REAL', 'REAL', 'REAL', 'REAL', 'REAL', 'REAL',\n",
       "       'REAL', 'nan', 'REAL', 'REAL', 'REAL', 'nan', 'REAL', 'REAL',\n",
       "       'REAL', 'nan', 'REAL', 'FAKE', 'REAL', 'FAKE', 'REAL', 'REAL',\n",
       "       'REAL', 'REAL', 'REAL', 'REAL', 'REAL', 'REAL', 'REAL', 'REAL',\n",
       "       'REAL', 'REAL', 'FAKE', 'nan', 'REAL', 'REAL', 'REAL', 'REAL',\n",
       "       'REAL', 'nan', 'nan', 'FAKE', 'REAL', 'REAL', 'REAL', 'REAL',\n",
       "       'REAL', 'REAL', 'REAL', 'REAL', 'REAL', 'FAKE', 'FAKE', 'REAL',\n",
       "       'REAL', 'FAKE', 'nan', 'REAL', 'FAKE', 'REAL', 'FAKE', 'REAL',\n",
       "       'FAKE', 'REAL', 'REAL', 'REAL', 'REAL', 'FAKE', 'REAL', 'REAL',\n",
       "       'REAL', 'REAL', 'FAKE', 'FAKE', 'REAL', 'REAL', 'nan', 'REAL',\n",
       "       'FAKE', 'nan', 'REAL', 'REAL', 'nan', 'REAL', 'REAL', 'REAL',\n",
       "       'REAL', 'REAL', 'REAL', 'REAL', 'FAKE', 'REAL', 'REAL', 'REAL',\n",
       "       'REAL', 'REAL', 'REAL', 'nan', 'REAL', 'nan', 'REAL', 'REAL',\n",
       "       'REAL', 'FAKE', 'REAL', 'FAKE', 'REAL', 'REAL', 'REAL', 'REAL',\n",
       "       'REAL', 'REAL', 'REAL', 'REAL', 'REAL', 'REAL', 'REAL', 'REAL',\n",
       "       'REAL', 'REAL'], dtype='<U4')"
      ]
     },
     "metadata": {},
     "execution_count": 8
    }
   ],
   "metadata": {}
  },
  {
   "cell_type": "code",
   "execution_count": 9,
   "source": [
    "y_train"
   ],
   "outputs": [
    {
     "output_type": "execute_result",
     "data": {
      "text/plain": [
       "array(['REAL', 'REAL', 'REAL', 'REAL', 'FAKE', 'REAL', 'REAL', 'REAL',\n",
       "       'REAL', 'REAL', 'REAL', 'REAL', 'REAL', 'REAL', 'FAKE', 'REAL',\n",
       "       'FAKE', 'FAKE', 'REAL', 'REAL', 'REAL', 'REAL', 'REAL', 'REAL',\n",
       "       'REAL', 'REAL', 'FAKE', 'REAL', 'FAKE', 'REAL', 'REAL', 'REAL',\n",
       "       'FAKE', 'REAL', 'REAL', 'REAL', 'REAL', 'FAKE', 'REAL', 'nan',\n",
       "       'REAL', 'REAL', 'REAL', 'REAL', 'nan', 'nan', 'REAL', 'REAL',\n",
       "       'REAL', 'FAKE', 'REAL', 'REAL', 'REAL', 'REAL', 'REAL', 'REAL',\n",
       "       'FAKE', 'REAL', 'FAKE', 'FAKE', 'REAL', 'REAL', 'FAKE', 'REAL',\n",
       "       'REAL', 'REAL', 'REAL', 'REAL', 'REAL', 'REAL', 'REAL', 'REAL',\n",
       "       'REAL', 'REAL', 'REAL', 'REAL', 'FAKE', 'nan', 'REAL', 'REAL',\n",
       "       'REAL', 'FAKE', 'REAL', 'FAKE', 'REAL', 'REAL', 'REAL', 'REAL',\n",
       "       'FAKE', 'REAL', 'REAL', 'REAL', 'REAL', 'REAL', 'REAL', 'REAL',\n",
       "       'REAL', 'REAL', 'FAKE', 'REAL', 'FAKE', 'REAL', 'REAL', 'FAKE',\n",
       "       'REAL', 'REAL', 'nan', 'REAL', 'REAL', 'REAL', 'FAKE', 'FAKE',\n",
       "       'REAL', 'REAL', 'REAL', 'REAL', 'nan', 'REAL', 'FAKE', 'REAL',\n",
       "       'REAL', 'REAL', 'REAL', 'REAL', 'REAL', 'REAL', 'REAL', 'REAL',\n",
       "       'nan', 'FAKE', 'REAL', 'REAL', 'REAL', 'REAL', 'REAL', 'FAKE',\n",
       "       'nan', 'REAL', 'REAL', 'REAL', 'nan', 'REAL', 'nan', 'REAL',\n",
       "       'REAL', 'nan', 'REAL', 'REAL', 'FAKE', 'FAKE', 'REAL', 'nan',\n",
       "       'REAL', 'REAL', 'REAL', 'REAL', 'REAL', 'REAL', 'nan', 'REAL',\n",
       "       'FAKE', 'REAL', 'REAL', 'REAL', 'REAL', 'REAL', 'REAL', 'REAL',\n",
       "       'FAKE', 'REAL', 'REAL', 'REAL', 'REAL', 'REAL', 'FAKE', 'REAL',\n",
       "       'REAL', 'REAL', 'REAL', 'REAL', 'REAL', 'FAKE', 'FAKE', 'REAL',\n",
       "       'REAL', 'nan', 'REAL', 'REAL', 'REAL', 'REAL', 'FAKE', 'nan',\n",
       "       'REAL', 'REAL', 'REAL', 'nan', 'nan', 'REAL', 'REAL', 'REAL',\n",
       "       'REAL', 'REAL', 'REAL', 'REAL', 'REAL', 'REAL', 'REAL', 'FAKE',\n",
       "       'FAKE', 'REAL', 'nan', 'REAL', 'REAL', 'REAL', 'REAL', 'REAL',\n",
       "       'REAL', 'REAL', 'REAL', 'REAL', 'REAL', 'REAL', 'REAL', 'REAL',\n",
       "       'nan', 'REAL', 'REAL', 'FAKE', 'REAL', 'FAKE', 'REAL', 'REAL',\n",
       "       'REAL', 'REAL', 'REAL', 'REAL', 'REAL', 'REAL', 'nan', 'REAL',\n",
       "       'REAL', 'REAL', 'REAL', 'REAL', 'FAKE', 'FAKE', 'FAKE', 'REAL',\n",
       "       'REAL', 'FAKE', 'REAL', 'REAL', 'REAL', 'REAL', 'REAL', 'REAL',\n",
       "       'REAL', 'nan', 'REAL', 'REAL', 'REAL', 'nan', 'REAL', 'REAL',\n",
       "       'REAL', 'nan', 'REAL', 'FAKE', 'REAL', 'FAKE', 'REAL', 'REAL',\n",
       "       'REAL', 'REAL', 'REAL', 'REAL', 'REAL', 'REAL', 'REAL', 'REAL',\n",
       "       'REAL', 'REAL', 'FAKE', 'nan', 'REAL', 'REAL', 'REAL', 'REAL',\n",
       "       'REAL', 'nan', 'nan', 'FAKE', 'REAL', 'REAL', 'REAL', 'REAL',\n",
       "       'REAL', 'REAL', 'REAL', 'REAL', 'REAL', 'FAKE', 'FAKE', 'REAL',\n",
       "       'REAL', 'FAKE', 'nan', 'REAL', 'FAKE', 'REAL', 'FAKE', 'REAL',\n",
       "       'FAKE', 'REAL', 'REAL', 'REAL', 'REAL', 'FAKE', 'REAL', 'REAL',\n",
       "       'REAL', 'REAL', 'FAKE', 'FAKE', 'REAL', 'REAL', 'nan', 'REAL',\n",
       "       'FAKE', 'nan', 'REAL', 'REAL', 'nan', 'REAL', 'REAL', 'REAL',\n",
       "       'REAL', 'REAL', 'REAL', 'REAL', 'FAKE', 'REAL', 'REAL', 'REAL',\n",
       "       'REAL', 'REAL', 'REAL', 'nan', 'REAL', 'nan', 'REAL', 'REAL',\n",
       "       'REAL', 'FAKE', 'REAL', 'FAKE', 'REAL', 'REAL', 'REAL', 'REAL',\n",
       "       'REAL', 'REAL', 'REAL', 'REAL', 'REAL', 'REAL', 'REAL', 'REAL',\n",
       "       'REAL', 'REAL'], dtype='<U4')"
      ]
     },
     "metadata": {},
     "execution_count": 9
    }
   ],
   "metadata": {}
  },
  {
   "cell_type": "code",
   "execution_count": 10,
   "source": [
    "tfvect = TfidfVectorizer(stop_words='english',max_df=0.7)\r\n",
    "tfid_x_train = tfvect.fit_transform(x_train)\r\n",
    "tfid_x_test = tfvect.transform(x_test)"
   ],
   "outputs": [],
   "metadata": {}
  },
  {
   "cell_type": "markdown",
   "source": [
    "* max_df = 0.50 means \"ignore terms that appear in more than 50% of the documents\".\r\n",
    "* max_df = 25 means \"ignore terms that appear in more than 25 documents\"."
   ],
   "metadata": {}
  },
  {
   "cell_type": "code",
   "execution_count": 11,
   "source": [
    "classifier = PassiveAggressiveClassifier(max_iter=50)\r\n",
    "classifier.fit(tfid_x_train,y_train)"
   ],
   "outputs": [
    {
     "output_type": "execute_result",
     "data": {
      "text/plain": [
       "PassiveAggressiveClassifier(max_iter=50)"
      ]
     },
     "metadata": {},
     "execution_count": 11
    }
   ],
   "metadata": {}
  },
  {
   "cell_type": "code",
   "execution_count": 12,
   "source": [
    "y_pred = classifier.predict(tfid_x_test)\r\n",
    "score = accuracy_score(y_test,y_pred)\r\n",
    "print(f'Accuracy: {round(score*100,2)}%')"
   ],
   "outputs": [
    {
     "output_type": "stream",
     "name": "stdout",
     "text": [
      "Accuracy: 100.0%\n"
     ]
    }
   ],
   "metadata": {}
  },
  {
   "cell_type": "code",
   "execution_count": 13,
   "source": [
    "cf = confusion_matrix(y_test,y_pred, labels=['FAKE','REAL'])\r\n",
    "print(cf)"
   ],
   "outputs": [
    {
     "output_type": "stream",
     "name": "stdout",
     "text": [
      "[[13  0]\n",
      " [ 0 69]]\n"
     ]
    }
   ],
   "metadata": {}
  },
  {
   "cell_type": "code",
   "execution_count": 14,
   "source": [
    "def fake_news_det(news):\r\n",
    "    input_data = [news]\r\n",
    "    vectorized_input_data = tfvect.transform(input_data)\r\n",
    "    prediction = classifier.predict(vectorized_input_data)\r\n",
    "    print(prediction)"
   ],
   "outputs": [],
   "metadata": {}
  },
  {
   "cell_type": "code",
   "execution_count": 15,
   "source": [
    "fake_news_det('U.S. Secretary of State John F. Kerry said Monday that he will stop in Paris later this week, amid criticism that no top American officials attended Sundayâ€™s unity march against terrorism.')"
   ],
   "outputs": [
    {
     "output_type": "stream",
     "name": "stdout",
     "text": [
      "['REAL']\n"
     ]
    }
   ],
   "metadata": {}
  },
  {
   "cell_type": "code",
   "execution_count": 16,
   "source": [
    "fake_news_det(\"\"\"Go to Article \r\n",
    "President Barack Obama has been campaigning hard for the woman who is supposedly going to extend his legacy four more years. The only problem with stumping for Hillary Clinton, however, is sheâ€™s not exactly a candidate easy to get too enthused about.  \"\"\")"
   ],
   "outputs": [
    {
     "output_type": "stream",
     "name": "stdout",
     "text": [
      "['REAL']\n"
     ]
    }
   ],
   "metadata": {}
  },
  {
   "cell_type": "code",
   "execution_count": 17,
   "source": [
    "import pickle\r\n",
    "pickle.dump(classifier,open('model.pkl', 'wb'))"
   ],
   "outputs": [],
   "metadata": {}
  },
  {
   "cell_type": "code",
   "execution_count": 18,
   "source": [
    "# load the model from disk\r\n",
    "loaded_model = pickle.load(open('model.pkl', 'rb'))"
   ],
   "outputs": [],
   "metadata": {}
  },
  {
   "cell_type": "code",
   "execution_count": 19,
   "source": [
    "def fake_news_det1(news):\r\n",
    "    input_data = [news]\r\n",
    "    vectorized_input_data = tfvect.transform(input_data)\r\n",
    "    prediction = loaded_model.predict(vectorized_input_data)\r\n",
    "    print(prediction)"
   ],
   "outputs": [],
   "metadata": {}
  },
  {
   "cell_type": "code",
   "execution_count": 20,
   "source": [
    "fake_news_det1(\"\"\"Go to Article \r\n",
    "President Barack Obama has been campaigning hard for the woman who is supposedly going to extend his legacy four more years. The only problem with stumping for Hillary Clinton, however, is sheâ€™s not exactly a candidate easy to get too enthused about.  \"\"\")"
   ],
   "outputs": [
    {
     "output_type": "stream",
     "name": "stdout",
     "text": [
      "['REAL']\n"
     ]
    }
   ],
   "metadata": {}
  },
  {
   "cell_type": "code",
   "execution_count": 21,
   "source": [
    "fake_news_det1(\"\"\"U.S. Secretary of State John F. Kerry said Monday that he will stop in Paris later this week, amid criticism that no top American officials attended Sundayâ€™s unity march against terrorism.\"\"\")"
   ],
   "outputs": [
    {
     "output_type": "stream",
     "name": "stdout",
     "text": [
      "['REAL']\n"
     ]
    }
   ],
   "metadata": {}
  },
  {
   "cell_type": "code",
   "execution_count": 22,
   "source": [
    "fake_news_det('''U.S. Secretary of State John F. Kerry said Monday that he will stop in Paris later this week, amid criticism that no top American officials attended Sundayâ€™s unity march against terrorism.''')"
   ],
   "outputs": [
    {
     "output_type": "stream",
     "name": "stdout",
     "text": [
      "['REAL']\n"
     ]
    }
   ],
   "metadata": {}
  }
 ],
 "metadata": {
  "kernelspec": {
   "name": "python3",
   "display_name": "Python 3.8.8 64-bit ('base': conda)"
  },
  "language_info": {
   "codemirror_mode": {
    "name": "ipython",
    "version": 3
   },
   "file_extension": ".py",
   "mimetype": "text/x-python",
   "name": "python",
   "nbconvert_exporter": "python",
   "pygments_lexer": "ipython3",
   "version": "3.8.8"
  },
  "interpreter": {
   "hash": "b3ba2566441a7c06988d0923437866b63cedc61552a5af99d1f4fb67d367b25f"
  }
 },
 "nbformat": 4,
 "nbformat_minor": 4
}